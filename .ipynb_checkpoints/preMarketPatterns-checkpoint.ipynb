{
 "cells": [
  {
   "cell_type": "code",
   "execution_count": 1,
   "metadata": {},
   "outputs": [],
   "source": [
    "import pandas as pd\n",
    "import numpy as np\n",
    "import matplotlib.pyplot as plt\n"
   ]
  },
  {
   "cell_type": "markdown",
   "metadata": {},
   "source": [
    "# Consecutive positives\n"
   ]
  },
  {
   "cell_type": "markdown",
   "metadata": {},
   "source": [
    "If today market opening is postive what is the probaility that yesterday was positive\n",
    "In another terms if market today is postive what is the probability that tomorrow opening will be positive"
   ]
  },
  {
   "cell_type": "code",
   "execution_count": 3,
   "metadata": {
    "scrolled": true
   },
   "outputs": [
    {
     "name": "stdout",
     "output_type": "stream",
     "text": [
      "for the year 2010\n",
      "61.74496644295302\n",
      "return is 1.080519324812772\n",
      "\n",
      "\n",
      "for the year 2011\n",
      "65.40880503144653\n",
      "return is 1.252700425757263\n",
      "\n",
      "\n",
      "for the year 2012\n",
      "63.52201257861635\n",
      "return is 1.2375100286060414\n",
      "\n",
      "\n",
      "for the year 2013\n",
      "58.78378378378378\n",
      "return is 1.190990569630977\n",
      "\n",
      "\n",
      "for the year 2014\n",
      "76.50273224043715\n",
      "return is 1.334376252091945\n",
      "\n",
      "\n",
      "for the year 2015\n",
      "77.83783783783784\n",
      "return is 1.4256564983041118\n",
      "\n",
      "\n",
      "for the year 2016\n",
      "71.1864406779661\n",
      "return is 1.2467851138024666\n",
      "\n",
      "\n",
      "for the year 2017\n",
      "82.84313725490196\n",
      "return is 1.4246601285150406\n",
      "\n",
      "\n",
      "for the year 2018\n",
      "65.40880503144653\n",
      "return is 1.252700425757263\n",
      "\n",
      "\n",
      "for the year 2019\n",
      "63.52201257861635\n",
      "return is 1.2375100286060414\n",
      "\n",
      "\n",
      "for the year 2020\n",
      "69.06077348066299\n",
      "return is 1.2948030031996671\n",
      "\n",
      "\n",
      "for the year 2007-2020\n",
      "71.4109926168991\n",
      "return is 23.262420257531936\n",
      "\n",
      "\n"
     ]
    }
   ],
   "source": [
    "#workks for data downloaded from bse\n",
    "column_list = [\"date\", \"open\", \"high\",\"low\",\"close\",\"reamrks\"]\n",
    "years=[\"2010\",\"2011\",\"2012\",\"2013\",\"2014\",\"2015\",\"2016\",\"2017\",\"2018\",\"2019\",\"2020\",\"2007-2020\"]\n",
    "for s in years:\n",
    "    path=\"data/sensex/sensex\"+s+\".csv\"\n",
    "    df = pd.read_csv(path,names=column_list) \n",
    "    count1=0\n",
    "    count2=0\n",
    "    cur=1\n",
    "    for i in range(2,df.index.size-1):  \n",
    "        if df['close'][i-2]<df['open'][i-1] and df['close'][i-1]<df['open'][i]:\n",
    "            count1=count1+1\n",
    "        if df['close'][i-1]<df['open'][i]:\n",
    "            count2=count2+1\n",
    "            profit=float((float(df['open'][i+1])-float(df['close'][i]))/float(df['close'][i]))\n",
    "            cur=cur+(cur*profit)\n",
    "    print(\"for the year \"+s)\n",
    "   # print(str(count1)+\" \"+str(count2))\n",
    "    print((count1/count2)*100)\n",
    "    print(\"return is \"+ str(cur))\n",
    "    print(\"\\n\")"
   ]
  },
  {
   "cell_type": "raw",
   "metadata": {},
   "source": [
    "There are two options to track index\n",
    "Futures- can go long as well as short\n",
    "ETF's- only long posiible by using BTST\n",
    "But problems with ETF's is tracking errors"
   ]
  },
  {
   "cell_type": "code",
   "execution_count": 4,
   "metadata": {},
   "outputs": [],
   "source": [
    "#checking same pattern for nifty bees an ETF which tracks nifty fifty along with brokerage and taxes"
   ]
  },
  {
   "cell_type": "code",
   "execution_count": 8,
   "metadata": {},
   "outputs": [
    {
     "name": "stdout",
     "output_type": "stream",
     "text": [
      "for the year 2010\n",
      "53.23741007194245\n",
      "return is 0.6890462279966767\n",
      "\n",
      "\n",
      "for the year 2011\n",
      "58.82352941176471\n",
      "return is 0.8709880614137901\n",
      "\n",
      "\n",
      "for the year 2012\n",
      "50.75757575757576\n",
      "return is 0.7097993527982762\n",
      "\n",
      "\n",
      "for the year 2013\n",
      "56.11510791366906\n",
      "return is 0.7106549920933082\n",
      "\n",
      "\n",
      "for the year 2014\n",
      "62.7906976744186\n",
      "return is 0.7988077232547004\n",
      "\n",
      "\n",
      "for the year 2015\n",
      "59.23076923076923\n",
      "return is 0.8153926814751435\n",
      "\n",
      "\n",
      "for the year 2016\n",
      "61.97183098591549\n",
      "return is 0.7344985733556818\n",
      "\n",
      "\n",
      "for the year 2017\n",
      "80.61224489795919\n",
      "return is 1.0683826622162367\n",
      "\n",
      "\n",
      "for the year 2018\n",
      "60.71428571428571\n",
      "return is 0.8636374783095928\n",
      "\n",
      "\n",
      "for the year 2020\n",
      "76.50273224043715\n",
      "return is 28.291801269670362\n",
      "\n",
      "\n"
     ]
    }
   ],
   "source": [
    "#column list for data downloaded from NSE\n",
    "column_list = [\"Date\", \"Open Price\", \"High Price\",\"Low Price\",\"Close Price\"]\n",
    "#avoiding 2019 because there is 1:10 split in decmenber of that year\n",
    "years=[\"2010\",\"2011\",\"2012\",\"2013\",\"2014\",\"2015\",\"2016\",\"2017\",\"2018\",\"2020\"]\n",
    "for s in years:\n",
    "    path=\"data/niftybees/niftybees\"+s+\".csv\"\n",
    "    df = pd.read_csv(path,usecols=column_list) \n",
    "    count1=0\n",
    "    count2=0\n",
    "    cur=1\n",
    "    for i in range(2,df.index.size-1):  \n",
    "        if df['Close Price'][i-2]<df['Open Price'][i-1] and df['Close Price'][i-1]<df['Open Price'][i]:\n",
    "            count1=count1+1\n",
    "        if df['Close Price'][i-1]<df['Open Price'][i]:\n",
    "            count2=count2+1\n",
    "            profit=float((float(df['Open Price'][i+1])-float(df['Close Price'][i]))/float(df['Close Price'][i]))\n",
    "            #brokerage of zero and 0.1% stt\n",
    "            cur=cur+(cur*profit-0.0021)\n",
    "    print(\"for the year \"+s)\n",
    "   # print(str(count1)+\" \"+str(count2))\n",
    "    print((count1/count2)*100)\n",
    "    print(\"return is \"+ str(cur))\n",
    "    print(\"\\n\")"
   ]
  },
  {
   "cell_type": "raw",
   "metadata": {},
   "source": [
    "So unless you do want to lose money do not do this, it is injurious to health\n",
    "But what the hell is wrong with 2020, open price in ETF's can be unrealistic(very less volume at the price point) so lets use average price of next day to sell and check returns"
   ]
  },
  {
   "cell_type": "code",
   "execution_count": 7,
   "metadata": {},
   "outputs": [
    {
     "name": "stdout",
     "output_type": "stream",
     "text": [
      "for the year 2010\n",
      "53.23741007194245\n",
      "return is 0.7539263356116217\n",
      "\n",
      "\n",
      "for the year 2011\n",
      "58.82352941176471\n",
      "return is 0.610451243086082\n",
      "\n",
      "\n",
      "for the year 2012\n",
      "50.75757575757576\n",
      "return is 0.7021769007460783\n",
      "\n",
      "\n",
      "for the year 2013\n",
      "56.11510791366906\n",
      "return is 0.8122310408526091\n",
      "\n",
      "\n",
      "for the year 2014\n",
      "62.7906976744186\n",
      "return is 0.9660276384972649\n",
      "\n",
      "\n",
      "for the year 2015\n",
      "59.23076923076923\n",
      "return is 0.785713459618766\n",
      "\n",
      "\n",
      "for the year 2016\n",
      "61.97183098591549\n",
      "return is 0.7272885618941907\n",
      "\n",
      "\n",
      "for the year 2017\n",
      "80.61224489795919\n",
      "return is 0.7609657499593453\n",
      "\n",
      "\n",
      "for the year 2018\n",
      "60.71428571428571\n",
      "return is 0.7302255061662177\n",
      "\n",
      "\n",
      "for the year 2020\n",
      "76.50273224043715\n",
      "return is 0.5684256622711104\n",
      "\n",
      "\n"
     ]
    }
   ],
   "source": [
    "#column list for data downloaded from NSE\n",
    "column_list = [\"Date\", \"Open Price\", \"High Price\",\"Low Price\",\"Close Price\",\"Average Price\"]\n",
    "#avoiding 2019 because there is 1:10 split in decmenber of that year\n",
    "years=[\"2010\",\"2011\",\"2012\",\"2013\",\"2014\",\"2015\",\"2016\",\"2017\",\"2018\",\"2020\"]\n",
    "for s in years:\n",
    "    path=\"data/niftybees/niftybees\"+s+\".csv\"\n",
    "    df = pd.read_csv(path,usecols=column_list) \n",
    "    count1=0\n",
    "    count2=0\n",
    "    cur=1\n",
    "    for i in range(2,df.index.size-1):  \n",
    "        if df['Close Price'][i-2]<df['Open Price'][i-1] and df['Close Price'][i-1]<df['Open Price'][i]:\n",
    "            count1=count1+1\n",
    "        if df['Close Price'][i-1]<df['Open Price'][i]:\n",
    "            count2=count2+1\n",
    "            profit=float((float(df['Average Price'][i+1])-float(df['Close Price'][i]))/float(df['Close Price'][i]))\n",
    "            #brokerage of zero and 0.1% stt\n",
    "            cur=cur+(cur*profit-0.0021)\n",
    "    print(\"for the year \"+s)\n",
    "   # print(str(count1)+\" \"+str(count2))\n",
    "    print((count1/count2)*100)\n",
    "    print(\"return is \"+ str(cur))\n",
    "    print(\"\\n\")"
   ]
  },
  {
   "cell_type": "raw",
   "metadata": {},
   "source": [
    "So hence ETF's cannot be used to track index, let us give a try with futures"
   ]
  },
  {
   "cell_type": "markdown",
   "metadata": {},
   "source": [
    "Calculating streaks"
   ]
  },
  {
   "cell_type": "code",
   "execution_count": 7,
   "metadata": {},
   "outputs": [],
   "source": [
    "#entry in list is 0 if tomorrow open negative 1 if tomorrow opens positive\n",
    "li=[]\n",
    "for i in range(1,df.index.size-1):  \n",
    "        if df['Open Price'][i+1]>df['Close Price'][i]:\n",
    "            li.append(1)\n",
    "        else:\n",
    "            li.append(0)"
   ]
  },
  {
   "cell_type": "code",
   "execution_count": null,
   "metadata": {},
   "outputs": [],
   "source": [
    "df.index.size"
   ]
  },
  {
   "cell_type": "code",
   "execution_count": null,
   "metadata": {},
   "outputs": [],
   "source": []
  },
  {
   "cell_type": "code",
   "execution_count": null,
   "metadata": {},
   "outputs": [],
   "source": []
  }
 ],
 "metadata": {
  "kernelspec": {
   "display_name": "Python 3",
   "language": "python",
   "name": "python3"
  },
  "language_info": {
   "codemirror_mode": {
    "name": "ipython",
    "version": 3
   },
   "file_extension": ".py",
   "mimetype": "text/x-python",
   "name": "python",
   "nbconvert_exporter": "python",
   "pygments_lexer": "ipython3",
   "version": "3.8.3"
  }
 },
 "nbformat": 4,
 "nbformat_minor": 4
}
