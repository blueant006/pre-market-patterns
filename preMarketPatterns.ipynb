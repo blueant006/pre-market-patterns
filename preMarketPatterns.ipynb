{
 "cells": [
  {
   "cell_type": "code",
   "execution_count": 117,
   "metadata": {},
   "outputs": [],
   "source": [
    "\n",
    "import pandas as pd\n",
    "import numpy as np\n",
    "import matplotlib.pyplot as plt\n",
    "from sklearn.model_selection import train_test_split\n",
    "from sklearn.linear_model import LogisticRegression\n",
    "from sklearn.tree import DecisionTreeClassifier # Import Decision Tree Classifier\n",
    "from sklearn import metrics #Import scikit-learn metrics module for accuracy calculation\n",
    "from sklearn.naive_bayes import GaussianNB\n",
    "from sklearn.neighbors import KNeighborsClassifier\n",
    "from sklearn.svm import SVC\n",
    "from sklearn.pipeline import make_pipeline\n",
    "from sklearn.preprocessing import StandardScaler\n",
    "import matplotlib.pyplot as plt\n"
   ]
  },
  {
   "cell_type": "code",
   "execution_count": null,
   "metadata": {},
   "outputs": [],
   "source": []
  },
  {
   "cell_type": "markdown",
   "metadata": {},
   "source": [
    "# Consecutive positives\n"
   ]
  },
  {
   "cell_type": "markdown",
   "metadata": {},
   "source": [
    "If today market opening is postive what is the probaility that yesterday was positive\n",
    "In another terms if market today is postive what is the probability that tomorrow opening will be positive"
   ]
  },
  {
   "cell_type": "code",
   "execution_count": 118,
   "metadata": {
    "scrolled": true
   },
   "outputs": [
    {
     "name": "stdout",
     "output_type": "stream",
     "text": [
      "for the year 2010\n",
      "return is 1.080519324812772\n",
      "\n",
      "\n",
      "for the year 2011\n",
      "return is 1.252700425757263\n",
      "\n",
      "\n",
      "for the year 2012\n",
      "return is 1.2375100286060414\n",
      "\n",
      "\n",
      "for the year 2013\n",
      "return is 1.190990569630977\n",
      "\n",
      "\n",
      "for the year 2014\n",
      "return is 1.334376252091945\n",
      "\n",
      "\n",
      "for the year 2015\n",
      "return is 1.4256564983041118\n",
      "\n",
      "\n",
      "for the year 2016\n",
      "return is 1.2467851138024666\n",
      "\n",
      "\n",
      "for the year 2017\n",
      "return is 1.4246601285150406\n",
      "\n",
      "\n",
      "for the year 2018\n",
      "return is 1.252700425757263\n",
      "\n",
      "\n",
      "for the year 2019\n",
      "return is 1.2375100286060414\n",
      "\n",
      "\n",
      "for the year 2020\n",
      "return is 1.2948030031996671\n",
      "\n",
      "\n",
      "for the year 2007-2020\n",
      "return is 23.262420257531936\n",
      "\n",
      "\n"
     ]
    }
   ],
   "source": [
    "#workks for data downloaded from bse\n",
    "column_list = [\"date\", \"open\", \"high\",\"low\",\"close\",\"reamrks\"]\n",
    "\n",
    "years=[\"2010\",\"2011\",\"2012\",\"2013\",\"2014\",\"2015\",\"2016\",\"2017\",\"2018\",\"2019\",\"2020\",\"2007-2020\"]\n",
    "for s in years:\n",
    "    path=\"data/sensex/sensex\"+s+\".csv\"\n",
    "    df = pd.read_csv(path,names=column_list)\n",
    "    \n",
    "    count1=0\n",
    "    count2=0\n",
    "    cur=1\n",
    "    for i in range(2,df.index.size-1):  \n",
    "        if df['close'][i-2]<df['open'][i-1] and df['close'][i-1]<df['open'][i]:\n",
    "            count1=count1+1\n",
    "        if df['close'][i-1]<df['open'][i]:\n",
    "            count2=count2+1\n",
    "            profit=float((float(df['open'][i+1])-float(df['close'][i]))/float(df['close'][i]))\n",
    "            cur=cur+(cur*profit)\n",
    "    print(\"for the year \"+s)\n",
    "   # print(str(count1)+\" \"+str(count2))\n",
    "    #print((count1/count2)*100)\n",
    "    print(\"return is \"+ str(cur))\n",
    "    print(\"\\n\")"
   ]
  },
  {
   "cell_type": "code",
   "execution_count": 119,
   "metadata": {},
   "outputs": [
    {
     "name": "stdout",
     "output_type": "stream",
     "text": [
      "for the year 2010\n",
      "return is 1.1183115468001632\n",
      "\n",
      "\n",
      "for the year 2011\n",
      "return is 1.0614283486137817\n",
      "\n",
      "\n",
      "for the year 2012\n",
      "return is 1.0614283486137817\n",
      "\n",
      "\n",
      "for the year 2013\n",
      "return is 1.0614283486137817\n",
      "\n",
      "\n",
      "for the year 2014\n",
      "return is 1.0614283486137817\n",
      "\n",
      "\n",
      "for the year 2015\n",
      "return is 1.0614283486137817\n",
      "\n",
      "\n",
      "for the year 2016\n",
      "return is 1.1700440446708427\n",
      "\n",
      "\n",
      "for the year 2017\n",
      "return is 1.3805472085989194\n",
      "\n",
      "\n",
      "for the year 2018\n",
      "return is 1.13405007179551\n",
      "\n",
      "\n",
      "for the year 2019\n",
      "return is 1.3587752715693584\n",
      "\n",
      "\n",
      "for the year 2020\n",
      "return is 1.1931870871262211\n",
      "\n",
      "\n"
     ]
    }
   ],
   "source": [
    "#In previous cell we have checked for sensex now let us check for nifty 50\n",
    "column_list = [\"Date\", \"Open\", \"High\",\"Low\",\"Close\"]\n",
    "#data will be used for concatenation of data frames\n",
    "data=pd.DataFrame()\n",
    "\n",
    "years=[\"2010\",\"2011\",\"2012\",\"2013\",\"2014\",\"2015\",\"2016\",\"2017\",\"2018\",\"2019\",\"2020\"]\n",
    "for s in years:\n",
    "    path=\"data/nifty/nifty\"+s+\".csv\"\n",
    "    df = pd.read_csv(path,usecols=column_list) \n",
    "    df=df.rename(columns={\"Open\": \"Open Price\", \"High\": \"High Price\",\"Close\":\"Close Price\",\"Low\":\"Low Price\"})\n",
    "    data=data.append(df,ignore_index = True)\n",
    "    count1=0\n",
    "    count2=0\n",
    "    cur=1\n",
    "    for i in range(2,df.index.size-1):  \n",
    "        if df['Close Price'][i-2]<df['Open Price'][i-1] and df['Close Price'][i-1]<df['Open Price'][i]:\n",
    "            count1=count1+1\n",
    "        if df['Close Price'][i-1]<df['Open Price'][i]:\n",
    "            count2=count2+1\n",
    "            profit=float((float(df['Open Price'][i+1])-float(df['Close Price'][i]))/float(df['Close Price'][i]))\n",
    "            #brokerage of zero and 0.1% stt\n",
    "            cur=cur+(cur*profit)\n",
    "    print(\"for the year \"+s)\n",
    "   # print(str(count1)+\" \"+str(count2))\n",
    "   # print((count1/count2)*100)\n",
    "    print(\"return is \"+ str(cur))\n",
    "    print(\"\\n\")"
   ]
  },
  {
   "cell_type": "code",
   "execution_count": 120,
   "metadata": {},
   "outputs": [
    {
     "name": "stdout",
     "output_type": "stream",
     "text": [
      "             Date  Open Price  High Price  Low Price  Close Price\n",
      "0     04-Jan-2010     5200.90     5238.45    5167.10      5232.20\n",
      "1     05-Jan-2010     5277.15     5288.35    5242.40      5277.90\n",
      "2     06-Jan-2010     5278.15     5310.85    5260.05      5281.80\n",
      "3     07-Jan-2010     5281.80     5302.55    5244.75      5263.10\n",
      "4     08-Jan-2010     5264.25     5276.75    5234.70      5244.75\n",
      "...           ...         ...         ...        ...          ...\n",
      "2719  23-Dec-2020    13473.50    13619.45   13432.20     13601.10\n",
      "2720  24-Dec-2020    13672.15    13771.75   13626.90     13749.25\n",
      "2721  28-Dec-2020    13815.15    13885.30   13811.55     13873.20\n",
      "2722  29-Dec-2020    13910.35    13967.60   13859.90     13932.60\n",
      "2723  30-Dec-2020    13980.90    13997.00   13864.95     13981.95\n",
      "\n",
      "[2724 rows x 5 columns]\n"
     ]
    }
   ],
   "source": [
    "#merged data for 11 years\n",
    "print(data)"
   ]
  },
  {
   "cell_type": "raw",
   "metadata": {},
   "source": [
    "There are two options to track index\n",
    "Futures- can go long as well as short\n",
    "ETF's- only long posiible by using BTST\n",
    "But problem with ETF's is tracking errors"
   ]
  },
  {
   "cell_type": "code",
   "execution_count": 121,
   "metadata": {},
   "outputs": [],
   "source": [
    "#checking same pattern for nifty bees an ETF which tracks nifty fifty along with brokerage and taxes"
   ]
  },
  {
   "cell_type": "code",
   "execution_count": 122,
   "metadata": {},
   "outputs": [
    {
     "name": "stdout",
     "output_type": "stream",
     "text": [
      "for the year 2010\n",
      "return is 0.6890462279966767\n",
      "\n",
      "\n",
      "for the year 2011\n",
      "return is 0.8709880614137901\n",
      "\n",
      "\n",
      "for the year 2012\n",
      "return is 0.7097993527982762\n",
      "\n",
      "\n",
      "for the year 2013\n",
      "return is 0.7106549920933082\n",
      "\n",
      "\n",
      "for the year 2014\n",
      "return is 0.7988077232547004\n",
      "\n",
      "\n",
      "for the year 2015\n",
      "return is 0.8153926814751435\n",
      "\n",
      "\n",
      "for the year 2016\n",
      "return is 0.7344985733556818\n",
      "\n",
      "\n",
      "for the year 2017\n",
      "return is 1.0683826622162367\n",
      "\n",
      "\n",
      "for the year 2018\n",
      "return is 0.8636374783095928\n",
      "\n",
      "\n",
      "for the year 2020\n",
      "return is 28.291801269670362\n",
      "\n",
      "\n"
     ]
    }
   ],
   "source": [
    "#column list for data downloaded from NSE\n",
    "\n",
    "column_list = [\"Date\", \"Open Price\", \"High Price\",\"Low Price\",\"Close Price\"]\n",
    "#avoiding 2019 because there is 1:10 split in decmenber of that year\n",
    "years=[\"2010\",\"2011\",\"2012\",\"2013\",\"2014\",\"2015\",\"2016\",\"2017\",\"2018\",\"2020\"]\n",
    "for s in years:\n",
    "    path=\"data/niftybees/niftybees\"+s+\".csv\"\n",
    "    df = pd.read_csv(path,usecols=column_list) \n",
    "   \n",
    "    count1=0\n",
    "    count2=0\n",
    "    cur=1\n",
    "    for i in range(2,df.index.size-1):  \n",
    "        if df['Close Price'][i-2]<df['Open Price'][i-1] and df['Close Price'][i-1]<df['Open Price'][i]:\n",
    "            count1=count1+1\n",
    "        if df['Close Price'][i-1]<df['Open Price'][i]:\n",
    "            count2=count2+1\n",
    "            profit=float((float(df['Open Price'][i+1])-float(df['Close Price'][i]))/float(df['Close Price'][i]))\n",
    "            #brokerage of zero and 0.1% stt\n",
    "            cur=cur+(cur*profit-0.0021)\n",
    "    print(\"for the year \"+s)\n",
    "   # print(str(count1)+\" \"+str(count2))\n",
    "    #print((count1/count2)*100)\n",
    "    print(\"return is \"+ str(cur))\n",
    "    print(\"\\n\")"
   ]
  },
  {
   "cell_type": "raw",
   "metadata": {},
   "source": [
    "So unless you do want to lose money do not do this, it is injurious to health\n",
    "But what the hell is wrong with 2020, open price in ETF's can be unrealistic(very less volume at the price point) so lets use average price of next day to sell and check returns"
   ]
  },
  {
   "cell_type": "code",
   "execution_count": 123,
   "metadata": {},
   "outputs": [
    {
     "name": "stdout",
     "output_type": "stream",
     "text": [
      "for the year 2010\n",
      "return is 0.7539263356116217\n",
      "\n",
      "\n",
      "for the year 2011\n",
      "return is 0.610451243086082\n",
      "\n",
      "\n",
      "for the year 2012\n",
      "return is 0.7021769007460783\n",
      "\n",
      "\n",
      "for the year 2013\n",
      "return is 0.8122310408526091\n",
      "\n",
      "\n",
      "for the year 2014\n",
      "return is 0.9660276384972649\n",
      "\n",
      "\n",
      "for the year 2015\n",
      "return is 0.785713459618766\n",
      "\n",
      "\n",
      "for the year 2016\n",
      "return is 0.7272885618941907\n",
      "\n",
      "\n",
      "for the year 2017\n",
      "return is 0.7609657499593453\n",
      "\n",
      "\n",
      "for the year 2018\n",
      "return is 0.7302255061662177\n",
      "\n",
      "\n",
      "for the year 2020\n",
      "return is 0.5684256622711104\n",
      "\n",
      "\n"
     ]
    }
   ],
   "source": [
    "#column list for data downloaded from NSE\n",
    "\n",
    "column_list = [\"Date\", \"Open Price\", \"High Price\",\"Low Price\",\"Close Price\",\"Average Price\"]\n",
    "#avoiding 2019 because there is 1:10 split in decmenber of that year\n",
    "years=[\"2010\",\"2011\",\"2012\",\"2013\",\"2014\",\"2015\",\"2016\",\"2017\",\"2018\",\"2020\"]\n",
    "for s in years:\n",
    "    path=\"data/niftybees/niftybees\"+s+\".csv\"\n",
    "    df = pd.read_csv(path,usecols=column_list) \n",
    "    count1=0\n",
    "    count2=0\n",
    "    cur=1\n",
    "    for i in range(2,df.index.size-1):  \n",
    "        if df['Close Price'][i-2]<df['Open Price'][i-1] and df['Close Price'][i-1]<df['Open Price'][i]:\n",
    "            count1=count1+1\n",
    "        if df['Close Price'][i-1]<df['Open Price'][i]:\n",
    "            count2=count2+1\n",
    "            profit=float((float(df['Average Price'][i+1])-float(df['Close Price'][i]))/float(df['Close Price'][i]))\n",
    "            #brokerage of zero and 0.1% stt\n",
    "            cur=cur+(cur*profit-0.0021)\n",
    "    print(\"for the year \"+s)\n",
    "   # print(str(count1)+\" \"+str(count2))\n",
    "   # print((count1/count2)*100)\n",
    "    print(\"return is \"+ str(cur))\n",
    "    print(\"\\n\")"
   ]
  },
  {
   "cell_type": "raw",
   "metadata": {},
   "source": [
    "So hence ETF's cannot be used to track index for BTST trading purpose."
   ]
  },
  {
   "cell_type": "raw",
   "metadata": {},
   "source": [
    "Let us use a classifier for this purpose"
   ]
  },
  {
   "cell_type": "raw",
   "metadata": {},
   "source": [
    "\n",
    "There will two columns.\n",
    "column 1:If today opened positive it will be 1 else 0\n",
    "column 2:How long is the current streak"
   ]
  },
  {
   "cell_type": "markdown",
   "metadata": {},
   "source": [
    "# Streaks"
   ]
  },
  {
   "cell_type": "code",
   "execution_count": 124,
   "metadata": {},
   "outputs": [
    {
     "name": "stdout",
     "output_type": "stream",
     "text": [
      "             Date  Open Price  High Price  Low Price  Close Price\n",
      "0     04-Jan-2010     5200.90     5238.45    5167.10      5232.20\n",
      "1     05-Jan-2010     5277.15     5288.35    5242.40      5277.90\n",
      "2     06-Jan-2010     5278.15     5310.85    5260.05      5281.80\n",
      "3     07-Jan-2010     5281.80     5302.55    5244.75      5263.10\n",
      "4     08-Jan-2010     5264.25     5276.75    5234.70      5244.75\n",
      "...           ...         ...         ...        ...          ...\n",
      "2719  23-Dec-2020    13473.50    13619.45   13432.20     13601.10\n",
      "2720  24-Dec-2020    13672.15    13771.75   13626.90     13749.25\n",
      "2721  28-Dec-2020    13815.15    13885.30   13811.55     13873.20\n",
      "2722  29-Dec-2020    13910.35    13967.60   13859.90     13932.60\n",
      "2723  30-Dec-2020    13980.90    13997.00   13864.95     13981.95\n",
      "\n",
      "[2724 rows x 5 columns]\n",
      "positives in data set are 1727 and negatives are 996\n",
      "0.6342269555637164\n"
     ]
    }
   ],
   "source": [
    "#entry in list is 0 if tomorrow open negative 1 if tomorrow opens positive\n",
    "\n",
    "df=data\n",
    "li=[]\n",
    "print(data)\n",
    "positives=0\n",
    "negatives=0\n",
    "for i in range(0,df.index.size-1):  \n",
    "        if df['Open Price'][i+1]>df['Close Price'][i]:\n",
    "            li.append(1)\n",
    "            positives=positives+1\n",
    "        else:\n",
    "            li.append(0)\n",
    "            negatives=negatives+1\n",
    "print(\"positives in data set are \"+ str(positives) +\" and negatives are \"+ str(negatives) )\n",
    "print(positives/(positives+negatives))\n",
    "today=[]\n",
    "today.append(1)\n",
    "cur=0;\n",
    "streak=[1]\n",
    "for i in range(1,df.index.size-1):  \n",
    "        if df['Open Price'][i]>df['Close Price'][i-1]:\n",
    "            today.append(1)\n",
    "            if(today[i-1]==1):\n",
    "                streak.append(streak[i-1]+1)\n",
    "            else:\n",
    "                streak.append(1)\n",
    "        else:\n",
    "            today.append(0)\n",
    "            if(today[i-1]==0):\n",
    "                streak.append(streak[i-1]+1)\n",
    "            else:\n",
    "                streak.append(1)\n"
   ]
  },
  {
   "cell_type": "code",
   "execution_count": 125,
   "metadata": {},
   "outputs": [],
   "source": [
    "#dropping last row\n",
    "df.drop(df.tail(1).index,inplace=True) # drop last n rows"
   ]
  },
  {
   "cell_type": "code",
   "execution_count": 126,
   "metadata": {},
   "outputs": [],
   "source": [
    "df['day'] = df.index\n",
    "df['result']=li\n",
    "df['today']=today\n",
    "df['streak']=streak"
   ]
  },
  {
   "cell_type": "code",
   "execution_count": 127,
   "metadata": {},
   "outputs": [
    {
     "data": {
      "text/html": [
       "<div>\n",
       "<style scoped>\n",
       "    .dataframe tbody tr th:only-of-type {\n",
       "        vertical-align: middle;\n",
       "    }\n",
       "\n",
       "    .dataframe tbody tr th {\n",
       "        vertical-align: top;\n",
       "    }\n",
       "\n",
       "    .dataframe thead th {\n",
       "        text-align: right;\n",
       "    }\n",
       "</style>\n",
       "<table border=\"1\" class=\"dataframe\">\n",
       "  <thead>\n",
       "    <tr style=\"text-align: right;\">\n",
       "      <th></th>\n",
       "      <th>Date</th>\n",
       "      <th>Open Price</th>\n",
       "      <th>High Price</th>\n",
       "      <th>Low Price</th>\n",
       "      <th>Close Price</th>\n",
       "      <th>day</th>\n",
       "      <th>result</th>\n",
       "      <th>today</th>\n",
       "      <th>streak</th>\n",
       "    </tr>\n",
       "  </thead>\n",
       "  <tbody>\n",
       "    <tr>\n",
       "      <th>0</th>\n",
       "      <td>04-Jan-2010</td>\n",
       "      <td>5200.90</td>\n",
       "      <td>5238.45</td>\n",
       "      <td>5167.10</td>\n",
       "      <td>5232.20</td>\n",
       "      <td>0</td>\n",
       "      <td>1</td>\n",
       "      <td>1</td>\n",
       "      <td>1</td>\n",
       "    </tr>\n",
       "    <tr>\n",
       "      <th>1</th>\n",
       "      <td>05-Jan-2010</td>\n",
       "      <td>5277.15</td>\n",
       "      <td>5288.35</td>\n",
       "      <td>5242.40</td>\n",
       "      <td>5277.90</td>\n",
       "      <td>1</td>\n",
       "      <td>1</td>\n",
       "      <td>1</td>\n",
       "      <td>2</td>\n",
       "    </tr>\n",
       "    <tr>\n",
       "      <th>2</th>\n",
       "      <td>06-Jan-2010</td>\n",
       "      <td>5278.15</td>\n",
       "      <td>5310.85</td>\n",
       "      <td>5260.05</td>\n",
       "      <td>5281.80</td>\n",
       "      <td>2</td>\n",
       "      <td>0</td>\n",
       "      <td>1</td>\n",
       "      <td>3</td>\n",
       "    </tr>\n",
       "    <tr>\n",
       "      <th>3</th>\n",
       "      <td>07-Jan-2010</td>\n",
       "      <td>5281.80</td>\n",
       "      <td>5302.55</td>\n",
       "      <td>5244.75</td>\n",
       "      <td>5263.10</td>\n",
       "      <td>3</td>\n",
       "      <td>1</td>\n",
       "      <td>0</td>\n",
       "      <td>1</td>\n",
       "    </tr>\n",
       "    <tr>\n",
       "      <th>4</th>\n",
       "      <td>08-Jan-2010</td>\n",
       "      <td>5264.25</td>\n",
       "      <td>5276.75</td>\n",
       "      <td>5234.70</td>\n",
       "      <td>5244.75</td>\n",
       "      <td>4</td>\n",
       "      <td>1</td>\n",
       "      <td>1</td>\n",
       "      <td>1</td>\n",
       "    </tr>\n",
       "    <tr>\n",
       "      <th>...</th>\n",
       "      <td>...</td>\n",
       "      <td>...</td>\n",
       "      <td>...</td>\n",
       "      <td>...</td>\n",
       "      <td>...</td>\n",
       "      <td>...</td>\n",
       "      <td>...</td>\n",
       "      <td>...</td>\n",
       "      <td>...</td>\n",
       "    </tr>\n",
       "    <tr>\n",
       "      <th>2718</th>\n",
       "      <td>22-Dec-2020</td>\n",
       "      <td>13373.65</td>\n",
       "      <td>13492.05</td>\n",
       "      <td>13192.90</td>\n",
       "      <td>13466.30</td>\n",
       "      <td>2718</td>\n",
       "      <td>1</td>\n",
       "      <td>1</td>\n",
       "      <td>1</td>\n",
       "    </tr>\n",
       "    <tr>\n",
       "      <th>2719</th>\n",
       "      <td>23-Dec-2020</td>\n",
       "      <td>13473.50</td>\n",
       "      <td>13619.45</td>\n",
       "      <td>13432.20</td>\n",
       "      <td>13601.10</td>\n",
       "      <td>2719</td>\n",
       "      <td>1</td>\n",
       "      <td>1</td>\n",
       "      <td>2</td>\n",
       "    </tr>\n",
       "    <tr>\n",
       "      <th>2720</th>\n",
       "      <td>24-Dec-2020</td>\n",
       "      <td>13672.15</td>\n",
       "      <td>13771.75</td>\n",
       "      <td>13626.90</td>\n",
       "      <td>13749.25</td>\n",
       "      <td>2720</td>\n",
       "      <td>1</td>\n",
       "      <td>1</td>\n",
       "      <td>3</td>\n",
       "    </tr>\n",
       "    <tr>\n",
       "      <th>2721</th>\n",
       "      <td>28-Dec-2020</td>\n",
       "      <td>13815.15</td>\n",
       "      <td>13885.30</td>\n",
       "      <td>13811.55</td>\n",
       "      <td>13873.20</td>\n",
       "      <td>2721</td>\n",
       "      <td>1</td>\n",
       "      <td>1</td>\n",
       "      <td>4</td>\n",
       "    </tr>\n",
       "    <tr>\n",
       "      <th>2722</th>\n",
       "      <td>29-Dec-2020</td>\n",
       "      <td>13910.35</td>\n",
       "      <td>13967.60</td>\n",
       "      <td>13859.90</td>\n",
       "      <td>13932.60</td>\n",
       "      <td>2722</td>\n",
       "      <td>1</td>\n",
       "      <td>1</td>\n",
       "      <td>5</td>\n",
       "    </tr>\n",
       "  </tbody>\n",
       "</table>\n",
       "<p>2723 rows × 9 columns</p>\n",
       "</div>"
      ],
      "text/plain": [
       "             Date  Open Price  High Price  Low Price  Close Price   day  \\\n",
       "0     04-Jan-2010     5200.90     5238.45    5167.10      5232.20     0   \n",
       "1     05-Jan-2010     5277.15     5288.35    5242.40      5277.90     1   \n",
       "2     06-Jan-2010     5278.15     5310.85    5260.05      5281.80     2   \n",
       "3     07-Jan-2010     5281.80     5302.55    5244.75      5263.10     3   \n",
       "4     08-Jan-2010     5264.25     5276.75    5234.70      5244.75     4   \n",
       "...           ...         ...         ...        ...          ...   ...   \n",
       "2718  22-Dec-2020    13373.65    13492.05   13192.90     13466.30  2718   \n",
       "2719  23-Dec-2020    13473.50    13619.45   13432.20     13601.10  2719   \n",
       "2720  24-Dec-2020    13672.15    13771.75   13626.90     13749.25  2720   \n",
       "2721  28-Dec-2020    13815.15    13885.30   13811.55     13873.20  2721   \n",
       "2722  29-Dec-2020    13910.35    13967.60   13859.90     13932.60  2722   \n",
       "\n",
       "      result  today  streak  \n",
       "0          1      1       1  \n",
       "1          1      1       2  \n",
       "2          0      1       3  \n",
       "3          1      0       1  \n",
       "4          1      1       1  \n",
       "...      ...    ...     ...  \n",
       "2718       1      1       1  \n",
       "2719       1      1       2  \n",
       "2720       1      1       3  \n",
       "2721       1      1       4  \n",
       "2722       1      1       5  \n",
       "\n",
       "[2723 rows x 9 columns]"
      ]
     },
     "execution_count": 127,
     "metadata": {},
     "output_type": "execute_result"
    }
   ],
   "source": [
    "df"
   ]
  },
  {
   "cell_type": "markdown",
   "metadata": {},
   "source": [
    "# Graphical illustration"
   ]
  },
  {
   "cell_type": "code",
   "execution_count": 128,
   "metadata": {},
   "outputs": [],
   "source": [
    "\n",
    "positiveStreak={}\n",
    "negativeStreak={}\n",
    "for i in range(0,len(streak)-1):\n",
    "    if(streak[i+1]<=streak[i]):\n",
    "        if(today[i]==1):\n",
    "            positiveStreak[streak[i]]=positiveStreak.get(streak[i],0)+1\n",
    "        else:\n",
    "            negativeStreak[streak[i]]=negativeStreak.get(streak[i],0)+1\n",
    "        \n"
   ]
  },
  {
   "cell_type": "code",
   "execution_count": 129,
   "metadata": {},
   "outputs": [
    {
     "data": {
      "image/png": "[encoded data removed]",
      "text/plain": [
       "<Figure size 432x288 with 1 Axes>"
      ]
     },
     "metadata": {
      "needs_background": "light"
     },
     "output_type": "display_data"
    },
    {
     "data": {
      "image/png": "[encoded data removed]",
      "text/plain": [
       "<Figure size 432x288 with 1 Axes>"
      ]
     },
     "metadata": {
      "needs_background": "light"
     },
     "output_type": "display_data"
    }
   ],
   "source": [
    "#sorting dict by key to get proper graph\n",
    "#positiveStreak=sorted (positiveStreak.keys())\n",
    "sorted_ps={}\n",
    "sorted_keys = sorted(positiveStreak.keys())  # [1, 3, 2]\n",
    "for w in sorted_keys:\n",
    "    sorted_ps[w] = positiveStreak[w]\n",
    "positiveStreak=sorted_ps\n",
    "names = list(positiveStreak.keys())\n",
    "values = list(positiveStreak.values())\n",
    "\n",
    "plt.bar(range(len(positiveStreak)), values, tick_label=names)\n",
    "plt.title(\"Positive Streaks\")\n",
    "plt.xlabel(\"Streak Length\")\n",
    "plt.ylabel(\"Number of instances\")\n",
    "plt.show()\n",
    "#print(positiveStreak)\n",
    "\n",
    "sorted_ns={}\n",
    "sorted_keys = sorted(negativeStreak.keys())  # [1, 3, 2]\n",
    "for w in sorted_keys:\n",
    "    sorted_ns[w] = negativeStreak[w]\n",
    "negativeStreak=sorted_ns\n",
    "names = list(negativeStreak.keys())\n",
    "values = list(negativeStreak.values())\n",
    "\n",
    "plt.bar(range(len(negativeStreak)), values, tick_label=names,color='red')\n",
    "plt.title(\"Negative Streaks\")\n",
    "plt.xlabel(\"Streak Length\")\n",
    "plt.ylabel(\"Number of instances\")\n",
    "plt.show()\n"
   ]
  },
  {
   "cell_type": "raw",
   "metadata": {},
   "source": [
    "Observations\n",
    "1. Positive streaks have beter conversion rate to higher streak compared to neggative streak\n",
    "2.Longer the duration of positive (or) negative more improbable it is to stay same(positive to negative and negative to positive will happen) \n"
   ]
  },
  {
   "cell_type": "markdown",
   "metadata": {},
   "source": [
    "# Logistic regression"
   ]
  },
  {
   "cell_type": "code",
   "execution_count": 130,
   "metadata": {},
   "outputs": [
    {
     "name": "stdout",
     "output_type": "stream",
     "text": [
      "Accuracy: 0.6167400881057269\n"
     ]
    }
   ],
   "source": [
    "X = df[['today','streak']]\n",
    "y = df['result']  \n",
    "\n",
    "X_train,X_test,y_train,y_test = train_test_split(X,y,test_size=0.25,random_state=0)  #train is based on 75% of the dataset, test is based on 25% of dataset\n",
    "\n",
    "logistic_regression= LogisticRegression()\n",
    "logistic_regression.fit(X_train,y_train)\n",
    "y_pred=logistic_regression.predict(X_test)\n",
    "\n",
    "print(\"Accuracy:\",metrics.accuracy_score(y_test, y_pred))\n",
    "#print(y_pred)"
   ]
  },
  {
   "cell_type": "markdown",
   "metadata": {},
   "source": [
    "# Decison Tree"
   ]
  },
  {
   "cell_type": "code",
   "execution_count": 131,
   "metadata": {},
   "outputs": [],
   "source": [
    "X_train, X_test, y_train, y_test = train_test_split(X, y, test_size=0.25, random_state=0)\n",
    "clf = DecisionTreeClassifier()\n",
    "\n",
    "# Train Decision Tree Classifer\n",
    "clf = clf.fit(X_train,y_train)\n",
    "\n",
    "#Predict the response for test dataset\n",
    "y_pred = clf.predict(X_test)\n",
    "#print(y_pred)"
   ]
  },
  {
   "cell_type": "code",
   "execution_count": 132,
   "metadata": {},
   "outputs": [
    {
     "name": "stdout",
     "output_type": "stream",
     "text": [
      "Accuracy: 0.618208516886931\n"
     ]
    }
   ],
   "source": [
    "print(\"Accuracy:\",metrics.accuracy_score(y_test, y_pred))"
   ]
  },
  {
   "cell_type": "markdown",
   "metadata": {},
   "source": [
    "# SVM"
   ]
  },
  {
   "cell_type": "code",
   "execution_count": 133,
   "metadata": {},
   "outputs": [],
   "source": [
    "clf = make_pipeline(StandardScaler(), SVC(gamma='auto'))\n",
    "X_train, X_test, y_train, y_test = train_test_split(X, y, test_size=0.25, random_state=0)\n",
    "\n",
    "clf.fit(X_train, y_train)\n",
    "#Pipeline(steps=[('standardscaler', StandardScaler()),('svc', SVC(gamma='auto'))])\n",
    "y_pred = clf.predict(X_test)\n",
    "#print(y_pred)"
   ]
  },
  {
   "cell_type": "code",
   "execution_count": 134,
   "metadata": {},
   "outputs": [
    {
     "name": "stdout",
     "output_type": "stream",
     "text": [
      "Accuracy: 0.6167400881057269\n"
     ]
    }
   ],
   "source": [
    "print(\"Accuracy:\",metrics.accuracy_score(y_test, y_pred))"
   ]
  },
  {
   "cell_type": "code",
   "execution_count": null,
   "metadata": {},
   "outputs": [],
   "source": []
  }
 ],
 "metadata": {
  "kernelspec": {
   "display_name": "Python 3",
   "language": "python",
   "name": "python3"
  },
  "language_info": {
   "codemirror_mode": {
    "name": "ipython",
    "version": 3
   },
   "file_extension": ".py",
   "mimetype": "text/x-python",
   "name": "python",
   "nbconvert_exporter": "python",
   "pygments_lexer": "ipython3",
   "version": "3.9.4"
  }
 },
 "nbformat": 4,
 "nbformat_minor": 4
}
